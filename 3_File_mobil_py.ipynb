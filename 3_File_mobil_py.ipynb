{
  "nbformat": 4,
  "nbformat_minor": 0,
  "metadata": {
    "colab": {
      "provenance": [],
      "authorship_tag": "ABX9TyMHLpowX7FKyg0iRrrreIt2",
      "include_colab_link": true
    },
    "kernelspec": {
      "name": "python3",
      "display_name": "Python 3"
    },
    "language_info": {
      "name": "python"
    }
  },
  "cells": [
    {
      "cell_type": "markdown",
      "metadata": {
        "id": "view-in-github",
        "colab_type": "text"
      },
      "source": [
        "<a href=\"https://colab.research.google.com/github/fasya2005/tugas-2-PBO/blob/main/3_File_mobil_py.ipynb\" target=\"_parent\"><img src=\"https://colab.research.google.com/assets/colab-badge.svg\" alt=\"Open In Colab\"/></a>"
      ]
    },
    {
      "cell_type": "code",
      "execution_count": 1,
      "metadata": {
        "colab": {
          "base_uri": "https://localhost:8080/"
        },
        "id": "nILZt9mR9Uzy",
        "outputId": "473d70ba-eb2f-4f67-9d12-138bbc0c827e"
      },
      "outputs": [
        {
          "output_type": "stream",
          "name": "stdout",
          "text": [
            "Kecepatan Toyota Avanza sekarang: 60 km/jam\n",
            "Kecepatan Toyota Avanza sekarang: 30 km/jam\n"
          ]
        }
      ],
      "source": [
        "class Mobil:\n",
        "    def __init__(self, merek, model):\n",
        "        self.merek = merek\n",
        "        self.model = model\n",
        "        self.kecepatan = 0\n",
        "\n",
        "    def tambah_kecepatan(self, kecepatan):\n",
        "        self.kecepatan += kecepatan\n",
        "        print(f\"Kecepatan {self.merek} {self.model} sekarang: {self.kecepatan} km/jam\")\n",
        "\n",
        "    def rem(self, kecepatan):\n",
        "        self.kecepatan -= kecepatan\n",
        "        if self.kecepatan < 0:\n",
        "            self.kecepatan = 0\n",
        "        print(f\"Kecepatan {self.merek} {self.model} sekarang: {self.kecepatan} km/jam\")\n",
        "\n",
        "# Objek\n",
        "mobil_saya = Mobil(\"Toyota\", \"Avanza\")\n",
        "mobil_saya.tambah_kecepatan(60)\n",
        "mobil_saya.rem(30)"
      ]
    }
  ]
}