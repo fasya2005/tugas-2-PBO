{
  "nbformat": 4,
  "nbformat_minor": 0,
  "metadata": {
    "colab": {
      "provenance": [],
      "authorship_tag": "ABX9TyOIH4id6ws8kLhzEIwYvYMZ",
      "include_colab_link": true
    },
    "kernelspec": {
      "name": "python3",
      "display_name": "Python 3"
    },
    "language_info": {
      "name": "python"
    }
  },
  "cells": [
    {
      "cell_type": "markdown",
      "metadata": {
        "id": "view-in-github",
        "colab_type": "text"
      },
      "source": [
        "<a href=\"https://colab.research.google.com/github/fasya2005/tugas-2-PBO/blob/main/2_File_lingkaran_py.ipynb\" target=\"_parent\"><img src=\"https://colab.research.google.com/assets/colab-badge.svg\" alt=\"Open In Colab\"/></a>"
      ]
    },
    {
      "cell_type": "code",
      "execution_count": 4,
      "metadata": {
        "colab": {
          "base_uri": "https://localhost:8080/"
        },
        "id": "0_JCyK1J8lsB",
        "outputId": "f1e75c75-fbd4-4eeb-e900-598756e1dff7"
      },
      "outputs": [
        {
          "output_type": "stream",
          "name": "stdout",
          "text": [
            "Luas Lingkaran: 78.54, Keliling Lingkaran: 31.42\n"
          ]
        }
      ],
      "source": [
        "import math\n",
        "\n",
        "class Lingkaran:\n",
        "    def __init__(self, jari_jari):\n",
        "        self.jari_jari = jari_jari\n",
        "\n",
        "    def buat_lingkaran(self):\n",
        "        luas = math.pi * (self.jari_jari ** 2)\n",
        "        keliling = 2 * math.pi * self.jari_jari\n",
        "        return luas, keliling\n",
        "\n",
        "blt = Lingkaran(5)\n",
        "luas, keliling = blt.buat_lingkaran()\n",
        "print(f\"Luas Lingkaran: {luas:.2f}, Keliling Lingkaran: {keliling:.2f}\")"
      ]
    }
  ]
}