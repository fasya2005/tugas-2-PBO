{
  "nbformat": 4,
  "nbformat_minor": 0,
  "metadata": {
    "colab": {
      "provenance": [],
      "authorship_tag": "ABX9TyMrjXUcsLWxqZMzuSTN5QWr",
      "include_colab_link": true
    },
    "kernelspec": {
      "name": "python3",
      "display_name": "Python 3"
    },
    "language_info": {
      "name": "python"
    }
  },
  "cells": [
    {
      "cell_type": "markdown",
      "metadata": {
        "id": "view-in-github",
        "colab_type": "text"
      },
      "source": [
        "<a href=\"https://colab.research.google.com/github/fasya2005/tugas-2-PBO/blob/main/1_File_mahasiswa_py.ipynb\" target=\"_parent\"><img src=\"https://colab.research.google.com/assets/colab-badge.svg\" alt=\"Open In Colab\"/></a>"
      ]
    },
    {
      "cell_type": "code",
      "execution_count": 1,
      "metadata": {
        "colab": {
          "base_uri": "https://localhost:8080/"
        },
        "id": "qWR0J8GV6aMb",
        "outputId": "a1a14499-f140-4482-ce13-58f516f9c4bb"
      },
      "outputs": [
        {
          "output_type": "stream",
          "name": "stdout",
          "text": [
            "KRS Budi (NIM: 123456): Matematika, Fisika\n"
          ]
        }
      ],
      "source": [
        "class Mahasiswa:\n",
        "    def __init__(self, nama, nim):\n",
        "        self.nama = nama\n",
        "        self.nim = nim\n",
        "        self.krs = []\n",
        "\n",
        "    def cetak_krs(self):\n",
        "        print(f\"KRS {self.nama} (NIM: {self.nim}): {', '.join(self.krs) if self.krs else 'Belum ada KRS'}\")\n",
        "\n",
        "    def tambah_mata_kuliah(self, mata_kuliah):\n",
        "        self.krs.append(mata_kuliah)\n",
        "\n",
        "mhs = Mahasiswa(\"Budi\", \"123456\")\n",
        "mhs.tambah_mata_kuliah(\"Matematika\")\n",
        "mhs.tambah_mata_kuliah(\"Fisika\")\n",
        "mhs.cetak_krs()"
      ]
    }
  ]
}