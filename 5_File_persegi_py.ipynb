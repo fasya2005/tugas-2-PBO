{
  "nbformat": 4,
  "nbformat_minor": 0,
  "metadata": {
    "colab": {
      "provenance": [],
      "authorship_tag": "ABX9TyPEs3w9HF+v5fRZOlsbJuTi",
      "include_colab_link": true
    },
    "kernelspec": {
      "name": "python3",
      "display_name": "Python 3"
    },
    "language_info": {
      "name": "python"
    }
  },
  "cells": [
    {
      "cell_type": "markdown",
      "metadata": {
        "id": "view-in-github",
        "colab_type": "text"
      },
      "source": [
        "<a href=\"https://colab.research.google.com/github/fasya2005/tugas-2-PBO/blob/main/5_File_persegi_py.ipynb\" target=\"_parent\"><img src=\"https://colab.research.google.com/assets/colab-badge.svg\" alt=\"Open In Colab\"/></a>"
      ]
    },
    {
      "cell_type": "code",
      "execution_count": null,
      "metadata": {
        "id": "1VdeW3VD-BiF"
      },
      "outputs": [],
      "source": [
        "class Persegi:\n",
        "    def __init__(self, sisi):\n",
        "        self.sisi = sisi\n",
        "\n",
        "    def hitung_luas(self):\n",
        "        return self.sisi * self.sisi\n",
        "\n",
        "    def hitung_keliling(self):\n",
        "        return 4 * self.sisi\n",
        "\n",
        "# Objek\n",
        "persegi_saya = Persegi(4)\n",
        "luas = persegi_saya.hitung_luas()\n",
        "keliling = persegi_saya.hitung_keliling()\n",
        "print(f\"Luas Persegi: {luas}, Keliling Persegi: {keliling}\")"
      ]
    }
  ]
}