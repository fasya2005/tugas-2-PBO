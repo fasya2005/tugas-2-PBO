{
  "nbformat": 4,
  "nbformat_minor": 0,
  "metadata": {
    "colab": {
      "provenance": [],
      "authorship_tag": "ABX9TyOBORH/eSyHaGiDuy9XgEjS",
      "include_colab_link": true
    },
    "kernelspec": {
      "name": "python3",
      "display_name": "Python 3"
    },
    "language_info": {
      "name": "python"
    }
  },
  "cells": [
    {
      "cell_type": "markdown",
      "metadata": {
        "id": "view-in-github",
        "colab_type": "text"
      },
      "source": [
        "<a href=\"https://colab.research.google.com/github/fasya2005/tugas-2-PBO/blob/main/4_File_hewan_py.ipynb\" target=\"_parent\"><img src=\"https://colab.research.google.com/assets/colab-badge.svg\" alt=\"Open In Colab\"/></a>"
      ]
    },
    {
      "cell_type": "code",
      "execution_count": null,
      "metadata": {
        "id": "d3_LTEZe9si9"
      },
      "outputs": [],
      "source": [
        "class Hewan:\n",
        "    def __init__(self, nama, jenis):\n",
        "        self.nama = nama\n",
        "        self.jenis = jenis\n",
        "\n",
        "    def suara(self):\n",
        "        if self.jenis == \"Kucing\":\n",
        "            return \"Meow\"\n",
        "        elif self.jenis == \"Anjing\":\n",
        "            return \"Guk Guk\"\n",
        "        else:\n",
        "            return \"Suara Hewan Tidak Dikenal\"\n",
        "\n",
        "# Objek\n",
        "kucing = Hewan(\"Kitty\", \"Kucing\")\n",
        "anjing = Hewan(\"Buddy\", \"Anjing\")\n",
        "print(f\"{kucing.nama} bersuara: {kucing.suara()}\")\n",
        "print(f\"{anjing.nama} bersuara: {anjing.suara()}\")"
      ]
    }
  ]
}